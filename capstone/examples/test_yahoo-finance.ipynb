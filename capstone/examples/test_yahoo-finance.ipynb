{
 "cells": [
  {
   "cell_type": "code",
   "execution_count": 1,
   "metadata": {
    "collapsed": false
   },
   "outputs": [
    {
     "data": {
      "text/plain": [
       "'\\nDeep Learning Stock Price Predictor \\nAuthor: Gil Akos\\n'"
      ]
     },
     "execution_count": 1,
     "metadata": {},
     "output_type": "execute_result"
    }
   ],
   "source": [
    "'''\n",
    "Deep Learning Stock Price Predictor \n",
    "Author: Gil Akos\n",
    "'''"
   ]
  },
  {
   "cell_type": "code",
   "execution_count": 2,
   "metadata": {
    "collapsed": false
   },
   "outputs": [],
   "source": [
    "#Import required libraries\n",
    "import numpy as np\n",
    "import pandas as pd\n",
    "from pprint import pprint"
   ]
  },
  {
   "cell_type": "code",
   "execution_count": 3,
   "metadata": {
    "collapsed": false
   },
   "outputs": [
    {
     "data": {
      "text/plain": [
       "'\\nYahoo Finance API\\nhttps://github.com/lukaszbanasiak/yahoo-finance\\n'"
      ]
     },
     "execution_count": 3,
     "metadata": {},
     "output_type": "execute_result"
    }
   ],
   "source": [
    "'''\n",
    "Yahoo Finance API\n",
    "https://github.com/lukaszbanasiak/yahoo-finance\n",
    "'''"
   ]
  },
  {
   "cell_type": "code",
   "execution_count": 4,
   "metadata": {
    "collapsed": true
   },
   "outputs": [],
   "source": [
    "#Import Yahoo Finance Library\n",
    "#import yahoo_finance as yf\n",
    "from yahoo_finance import Share"
   ]
  },
  {
   "cell_type": "code",
   "execution_count": 5,
   "metadata": {
    "collapsed": false
   },
   "outputs": [
    {
     "name": "stdout",
     "output_type": "stream",
     "text": [
      "[{'Adj_Close': '252.949997',\n",
      "  'Close': '252.949997',\n",
      "  'Date': '2017-01-27',\n",
      "  'High': '253.00',\n",
      "  'Low': '248.520004',\n",
      "  'Open': '251.380005',\n",
      "  'Symbol': 'TSLA',\n",
      "  'Volume': '3152200'},\n",
      " {'Adj_Close': '252.509995',\n",
      "  'Close': '252.509995',\n",
      "  'Date': '2017-01-26',\n",
      "  'High': '255.740005',\n",
      "  'Low': '250.75',\n",
      "  'Open': '254.289993',\n",
      "  'Symbol': 'TSLA',\n",
      "  'Volume': '3141000'},\n",
      " {'Adj_Close': '254.470001',\n",
      "  'Close': '254.470001',\n",
      "  'Date': '2017-01-25',\n",
      "  'High': '258.459991',\n",
      "  'Low': '251.800003',\n",
      "  'Open': '257.309998',\n",
      "  'Symbol': 'TSLA',\n",
      "  'Volume': '5142600'}]\n"
     ]
    }
   ],
   "source": [
    "#Test Yahoo share price request test\n",
    "ticker = 'TSLA'\n",
    "stock_data = Share(ticker)\n",
    "pprint(stock_data.get_historical('2017-01-25','2017-01-27'))\n"
   ]
  },
  {
   "cell_type": "code",
   "execution_count": null,
   "metadata": {
    "collapsed": true
   },
   "outputs": [],
   "source": []
  }
 ],
 "metadata": {
  "anaconda-cloud": {},
  "kernelspec": {
   "display_name": "Python [conda root]",
   "language": "python",
   "name": "conda-root-py"
  },
  "language_info": {
   "codemirror_mode": {
    "name": "ipython",
    "version": 2
   },
   "file_extension": ".py",
   "mimetype": "text/x-python",
   "name": "python",
   "nbconvert_exporter": "python",
   "pygments_lexer": "ipython2",
   "version": "2.7.12"
  }
 },
 "nbformat": 4,
 "nbformat_minor": 1
}
