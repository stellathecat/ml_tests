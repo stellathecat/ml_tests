{
 "cells": [
  {
   "cell_type": "code",
   "execution_count": null,
   "metadata": {
    "collapsed": false
   },
   "outputs": [],
   "source": [
    "'''\n",
    "Deep Learning Stock Price Predictor \n",
    "Author: Gil Akos\n",
    "Objective: Create Deep Learning Model with Keras LSTM\n",
    "Reference: http://machinelearningmastery.com/time-series-prediction-lstm-recurrent-neural-networks-python-keras/\n",
    "\n",
    "SET UP A BASIC LSTM MODEL \n",
    "'''"
   ]
  },
  {
   "cell_type": "code",
   "execution_count": null,
   "metadata": {
    "collapsed": false
   },
   "outputs": [],
   "source": [
    "%matplotlib inline\n",
    "%config InlineBackend.figure_format = 'retina'\n",
    "\n",
    "# Import required libraries for Machine Learning\n",
    "import math\n",
    "import numpy as np\n",
    "# Fix random seed for reproducibility\n",
    "np.random.seed(7)\n",
    "import pandas as pd\n",
    "\n",
    "# Import Keras Libraries\n",
    "from keras.models import Sequential\n",
    "from keras.layers import Dense\n",
    "from keras.layers import LSTM\n",
    "from keras.metrics import mean_squared_error\n",
    "\n",
    "# Import required libraries for Yahoo Finance API\n",
    "import yahoo_finance as yf\n",
    "from yahoo_finance import Share\n",
    "\n",
    "# Import required libraries for visualization and printing\n",
    "from pprint import pprint\n",
    "import matplotlib.pyplot as plt\n",
    "plt.rcParams['figure.figsize'] = (18, 12)\n",
    "import matplotlib.dates as mdates\n",
    "\n",
    "# Import utility libraries\n",
    "import utilities as util\n",
    "import datetime\n",
    "import time"
   ]
  },
  {
   "cell_type": "code",
   "execution_count": null,
   "metadata": {
    "collapsed": false
   },
   "outputs": [],
   "source": [
    "# Set Benchmark Dates based on Machine Learning for Trading course 1/1/09-6/18/15\n",
    "date_start, date_end = '1995-01-01', '2015-06-18'#'2015-06-18'\n",
    "\n",
    "# Set Additional Tickers\n",
    "tick_0 = 'SPY'\n",
    "tick_1 = 'GE'\n",
    "tick_2 = 'MSFT'\n",
    "tick_3 = 'AAPL'\n",
    "\n",
    "# Set Baseline Model Ticker\n",
    "base_ticker = tick_0"
   ]
  },
  {
   "cell_type": "code",
   "execution_count": null,
   "metadata": {
    "collapsed": false
   },
   "outputs": [],
   "source": [
    "#Request Stock Data\n",
    "stock_data = Share(base_ticker)\n",
    "stock_historical = stock_data.get_historical(date_start,date_end)\n",
    "\n",
    "#pprint(stock_historical)\n",
    "\n",
    "#Define columns of data to keep from historical stock data\n",
    "stock_item = []\n",
    "stock_date = []\n",
    "stock_close = []\n",
    "stock_volume = []\n",
    "\n",
    "#Loop through the stock data objects backwards and store factors we want to keep\n",
    "i_counter = 0\n",
    "for i in xrange(len(stock_historical)-1,-1,-1):\n",
    "    d = stock_historical[i]\n",
    "    stock_item.append(i_counter)\n",
    "    stock_date.append(d['Date'])\n",
    "    stock_close.append(d['Adj_Close'])\n",
    "    stock_volume.append(d['Volume'])\n",
    "    i_counter += 1\n",
    "\n",
    "#Create a dataframe for stock data\n",
    "stock_df = pd.DataFrame()\n",
    "    \n",
    "#Add factors to dataframe\n",
    "stock_df['Item'] = stock_item\n",
    "stock_df['Date'] = stock_date\n",
    "stock_df['Adj_Close'] = pd.to_numeric(stock_close)\n",
    "stock_df['Volume'] = pd.to_numeric(stock_volume)\n",
    "\n",
    "#Print the dataframe head and tail\n",
    "print(stock_df.head())\n",
    "print(\"---\")\n",
    "print(stock_df.tail())"
   ]
  },
  {
   "cell_type": "code",
   "execution_count": null,
   "metadata": {
    "collapsed": false
   },
   "outputs": [],
   "source": [
    "#Plot Basic Data\n",
    "fig, ax = plt.subplots()\n",
    "ax.plot(stock_df['Item'], stock_df['Adj_Close'], '#0A7388', label='Adjusted Close')\n",
    "\n",
    "# format the coords message box\n",
    "def price(x):\n",
    "    return '$%1.2f' % x\n",
    "#ax.format_xdata = mdates.DateFormatter('%Y-%m-%d')\n",
    "ax.format_ydata = price\n",
    "\n",
    "# Add labels\n",
    "plt.ylabel('Price USD')\n",
    "plt.xlabel('Trading Days')\n",
    "# Add title and legend\n",
    "ax.set_title(base_ticker + ' Trading')\n",
    "ax.legend(loc='upper left')\n",
    "\n",
    "plt.show()"
   ]
  },
  {
   "cell_type": "code",
   "execution_count": null,
   "metadata": {
    "collapsed": false
   },
   "outputs": [],
   "source": [
    "#Create numpy arrays for features and targets\n",
    "X_day_all = []\n",
    "y_close_all = []\n",
    "\n",
    "#Convert dataframe columns to numpy arrays for scikit learn\n",
    "for index, row in stock_df.iterrows():\n",
    "    #print([np.array(row['Item'])])\n",
    "    X_day_all.append([(row['Item'])])\n",
    "    y_close_all.append([(row['Adj_Close'])])\n",
    "\n",
    "#pprint(X_day_all)\n",
    "pprint(y_close_all)"
   ]
  },
  {
   "cell_type": "code",
   "execution_count": null,
   "metadata": {
    "collapsed": false
   },
   "outputs": [],
   "source": [
    "# Regularize the feature and target arrays and store min/max of input data for rescaling later\n",
    "X_day_bounds = [min(X_day_all), max(X_day_all)]\n",
    "X_day_bounds = [X_day_bounds[0][0], X_day_bounds[1][0]]\n",
    "y_close_bounds = [min(y_close_all), max(y_close_all)]\n",
    "y_close_bounds = [y_close_bounds[0][0], y_close_bounds[1][0]]\n",
    "\n",
    "X_day_scaled, X_day_range = util.scale_range(np.array(X_day_all), input_range=X_day_bounds)\n",
    "y_close_scaled, y_close_range = util.scale_range(np.array(y_close_all), input_range=y_close_bounds)\n",
    "\n",
    "pprint(y_close_scaled)\n",
    "print(y_close_range)"
   ]
  },
  {
   "cell_type": "code",
   "execution_count": null,
   "metadata": {
    "collapsed": false
   },
   "outputs": [],
   "source": [
    "# Create datasets\n",
    "tt_split = .315\n",
    "tti_split = int(math.floor(len(stock_df['Item'])*tt_split))\n",
    "\n",
    "# Set up training and test sets\n",
    "X_day_train = X_day_scaled[:-tti_split]\n",
    "X_day_test = X_day_scaled[-tti_split:]\n",
    "print(len(X_day_train))\n",
    "print(len(X_day_test))\n",
    "\n",
    "y_close_train = y_close_scaled[:-tti_split]\n",
    "y_close_test = y_close_scaled[-tti_split:]\n",
    "\n",
    "#pprint(X_train)\n",
    "#pprint(X_test)\n",
    "\n",
    "# Create dataframe for all training, testing, and predicted sets\n",
    "results_df = pd.DataFrame(columns=['Item', 'Close', 'Close_Scaled', 'Close_Train', 'Close_Test', 'Close_Test_Scaled', 'Close_Predicted', 'Close_Predicted_Scaled'])\n",
    "results_df['Item'] = stock_df['Item']\n",
    "results_df['Close'] = stock_df['Adj_Close']\n",
    "results_df['Close_Scaled'] = y_close_scaled.flatten()\n",
    "results_df['Close_Train'][:-tti_split] = y_close_train.flatten()\n",
    "results_df['Close_Test'][-tti_split:] = stock_df['Adj_Close'][-tti_split:]\n",
    "results_df['Close_Test_Scaled'][-tti_split:] = y_close_test.flatten()\n",
    "\n",
    "pprint(results_df)\n"
   ]
  },
  {
   "cell_type": "code",
   "execution_count": null,
   "metadata": {
    "collapsed": true
   },
   "outputs": [],
   "source": [
    "# Convert an array of values into a dataset matrix\n",
    "def create_dataset(dataset, look_back=1):\n",
    "    dataX, dataY = [], []\n",
    "    for i in range(len(dataset)-look_back-1):\n",
    "        a = dataset[i:(i+look_back), 0]\n",
    "        dataX.append(a)\n",
    "        dataY.append(dataset[i + look_back, 0])\n",
    "    return np.array(dataX), np.array(dataY)"
   ]
  },
  {
   "cell_type": "code",
   "execution_count": null,
   "metadata": {
    "collapsed": false
   },
   "outputs": [],
   "source": [
    "# Reshape into t and t+1\n",
    "look_back = 3\n",
    "#trainX, trainY = create_dataset(X_train, look_back)\n",
    "#testX, testY = create_dataset(y_test, look_back)\n",
    "\n",
    "X_day_train_t, X_day_train_t1 = create_dataset(X_day_train, look_back)\n",
    "y_close_test_t, y_close_test_t1 = create_dataset(y_close_test, look_back)\n",
    "\n",
    "pprint(X_day_train_t)\n",
    "print('--')\n",
    "#pprint(trainY)\n",
    "\n",
    "# Reshape input to be [samples, time steps, features]\n",
    "X_day_train_t = np.reshape(X_day_train_t, (X_day_train_t.shape[0], X_day_train_t.shape[1], 1))\n",
    "y_close_test_t = np.reshape(y_close_test_t, (y_close_test_t.shape[0], y_close_test_t.shape[1], 1))\n",
    "\n",
    "pprint(X_day_train_t)\n",
    "print('--')\n",
    "#pprint(testX)"
   ]
  },
  {
   "cell_type": "code",
   "execution_count": null,
   "metadata": {
    "collapsed": false
   },
   "outputs": [],
   "source": [
    "# Create Keras Model\n",
    "# http://machinelearningmastery.com/time-series-prediction-lstm-recurrent-neural-networks-python-keras/\n",
    "\n",
    "# Create and fit the LSTM network\n",
    "batch_size = 1\n",
    "epochs = 20 # 200\n",
    "model = Sequential()\n",
    "model.add(LSTM(8, batch_input_shape=(batch_size, look_back, 1)))\n",
    "model.add(Dense(1))\n",
    "model.compile(loss='mean_squared_error', optimizer='adam')\n",
    "model.fit(X_day_train_t, X_day_train_t1, nb_epoch=epochs, batch_size=batch_size, verbose=2, shuffle=False)\n"
   ]
  },
  {
   "cell_type": "code",
   "execution_count": null,
   "metadata": {
    "collapsed": false
   },
   "outputs": [],
   "source": [
    "# Generate predictions for training\n",
    "trainPredict = model.predict(X_day_train_t, batch_size=batch_size)\n",
    "testPredict = model.predict(y_close_test_t, batch_size=batch_size)\n",
    "trainPredict_rescaled, r1 = util.scale_range(np.array(trainPredict), input_range=[0.0, 1.0], target_range=y_close_bounds)\n",
    "testPredict_rescaled, r2 = util.scale_range(np.array(testPredict), input_range=[0.0, 1.0], target_range=y_close_bounds)\n",
    "\n",
    "# shift train predictions for plotting\n",
    "trainPredictPlot = np.empty_like(X_day_scaled)\n",
    "trainPredictPlot[:, :] = np.nan\n",
    "trainPredictPlot[look_back:len(trainPredict_rescaled)+look_back, :] = trainPredict_rescaled\n",
    " \n",
    "# shift test predictions for plotting\n",
    "testPredictPlot = np.empty_like(X_day_scaled)\n",
    "testPredictPlot[:, :] = np.nan\n",
    "testPredictPlot[len(trainPredict_rescaled)+(look_back*2)+1:len(X_day_scaled)-1, :] = testPredict_rescaled\n",
    "\n",
    "# Create actual values in aligned array\n",
    "yPlot = np.empty_like(y_close_scaled)\n",
    "yPlot[:, :] = np.nan\n",
    "yPlot[-len(testPredict_rescaled):, :] = y_close_all[-len(testPredict_rescaled):]\n",
    "\n",
    "# Set up plot\n",
    "fig = plt.figure()\n",
    "ax = fig.add_subplot(111)\n",
    "\n",
    "# Add labels\n",
    "plt.ylabel('Price USD')\n",
    "plt.xlabel('Trading Days')\n",
    "# Plot actual and predicted close values\n",
    "\n",
    "plt.plot(yPlot,'#5F5F5F', label='Adjusted Close')\n",
    "plt.plot(testPredictPlot, '#0C91AB', label='Predicted Close')\n",
    "\n",
    "# Set title\n",
    "ax.set_title(base_ticker + ' Trading vs Prediction')\n",
    "ax.legend(loc='upper left')\n",
    "\n",
    "plt.show()"
   ]
  },
  {
   "cell_type": "code",
   "execution_count": null,
   "metadata": {
    "collapsed": false
   },
   "outputs": [],
   "source": [
    "# The mean squared error\n",
    "testScore = model.evaluate(y_close_test_t, y_close_test_t1, batch_size=batch_size, verbose=0)\n",
    "print('Test Score: %.4f MSE (%.4f RMSE)' % (testScore, math.sqrt(testScore)))"
   ]
  },
  {
   "cell_type": "markdown",
   "metadata": {
    "collapsed": true
   },
   "source": [
    "# Log of Results:\n",
    "Lookback: 3\n",
    "\n",
    "### SPY\n",
    "Test Score: 0.0002 MSE (0.0149 RMSE)\n",
    "\n",
    "\n",
    "### GE\n",
    "Test Score: 0.0003 MSE (0.0165 RMSE)\n",
    "\n",
    "\n",
    "### MSFT\n",
    "Test Score: 0.0004 MSE (0.0206 RMSE)\n",
    "\n",
    "\n",
    "### AAPL\n",
    "Test Score: 0.0003 MSE (0.0186 RMSE)\n"
   ]
  },
  {
   "cell_type": "code",
   "execution_count": null,
   "metadata": {
    "collapsed": true
   },
   "outputs": [],
   "source": []
  }
 ],
 "metadata": {
  "anaconda-cloud": {},
  "kernelspec": {
   "display_name": "Python [conda root]",
   "language": "python",
   "name": "conda-root-py"
  },
  "language_info": {
   "codemirror_mode": {
    "name": "ipython",
    "version": 2
   },
   "file_extension": ".py",
   "mimetype": "text/x-python",
   "name": "python",
   "nbconvert_exporter": "python",
   "pygments_lexer": "ipython2",
   "version": "2.7.13"
  }
 },
 "nbformat": 4,
 "nbformat_minor": 1
}
